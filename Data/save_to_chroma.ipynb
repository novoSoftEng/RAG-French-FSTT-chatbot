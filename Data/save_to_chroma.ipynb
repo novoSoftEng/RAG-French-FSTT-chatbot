{
 "cells": [
  {
   "cell_type": "code",
   "execution_count": 1,
   "id": "af28d3eb-0442-44fd-b687-0d5182daa7ed",
   "metadata": {},
   "outputs": [],
   "source": [
    "import pandas as pd\n",
    "from chromadb.utils.embedding_functions import OllamaEmbeddingFunction\n",
    "import spacy\n",
    "import spacy\n",
    "import nltk\n",
    "from nltk.corpus import stopwords\n",
    "from nltk.tokenize import sent_tokenize\n",
    "import re\n",
    "import string\n",
    "from nltk.tokenize import RegexpTokenizer\n",
    "from langdetect import detect\n",
    "from gensim.models import Word2Vec\n",
    "import chromadb\n",
    "import numpy as np\n",
    "import uuid"
   ]
  },
  {
   "cell_type": "code",
   "execution_count": 2,
   "id": "bb52bbda-f286-4a19-a4cf-4a9d7ee92853",
   "metadata": {},
   "outputs": [],
   "source": [
    "french_stopwords = set(stopwords.words('french'))"
   ]
  },
  {
   "cell_type": "code",
   "execution_count": 3,
   "id": "d05f3e47-bcac-41d6-8d02-88049e23bb72",
   "metadata": {},
   "outputs": [],
   "source": [
    "article = pd.read_csv(\"fstt-articles.csv\")\n",
    "clubs = pd.read_csv(\"fstt-clubs-info.csv\")\n",
    "dep = pd.read_csv(\"fstt-departements-info.csv\")\n",
    "formation = pd.read_csv(\"fstt-formation-initial.csv\")"
   ]
  },
  {
   "cell_type": "code",
   "execution_count": 4,
   "id": "59a8a0d7-084f-4cb2-8ee1-c72e00a45fc8",
   "metadata": {},
   "outputs": [
    {
     "data": {
      "text/html": [
       "<div>\n",
       "<style scoped>\n",
       "    .dataframe tbody tr th:only-of-type {\n",
       "        vertical-align: middle;\n",
       "    }\n",
       "\n",
       "    .dataframe tbody tr th {\n",
       "        vertical-align: top;\n",
       "    }\n",
       "\n",
       "    .dataframe thead th {\n",
       "        text-align: right;\n",
       "    }\n",
       "</style>\n",
       "<table border=\"1\" class=\"dataframe\">\n",
       "  <thead>\n",
       "    <tr style=\"text-align: right;\">\n",
       "      <th></th>\n",
       "      <th>No</th>\n",
       "      <th>club_name</th>\n",
       "      <th>departement_info</th>\n",
       "      <th>club_link</th>\n",
       "    </tr>\n",
       "  </thead>\n",
       "  <tbody>\n",
       "    <tr>\n",
       "      <th>0</th>\n",
       "      <td>1</td>\n",
       "      <td>GREENOLOGY</td>\n",
       "      <td>Le Club de l’environnement de la FST de Tanger...</td>\n",
       "      <td>https://fstt.ac.ma/Portail2023/greenology/</td>\n",
       "    </tr>\n",
       "    <tr>\n",
       "      <th>1</th>\n",
       "      <td>2</td>\n",
       "      <td>CADAC</td>\n",
       "      <td>https://www.facebook.com/CADAC.FSTT</td>\n",
       "      <td>https://fstt.ac.ma/Portail2023/club-d-art-dram...</td>\n",
       "    </tr>\n",
       "    <tr>\n",
       "      <th>2</th>\n",
       "      <td>3</td>\n",
       "      <td>CLUB GÉNIE CIVIL</td>\n",
       "      <td>Le Club Génie civil est un club scientifique d...</td>\n",
       "      <td>https://fstt.ac.ma/Portail2023/club-genie-civil/</td>\n",
       "    </tr>\n",
       "    <tr>\n",
       "      <th>3</th>\n",
       "      <td>4</td>\n",
       "      <td>CLUB LES SOPHISTES</td>\n",
       "      <td>https://www.facebook.com/SophistesFSTT</td>\n",
       "      <td>https://fstt.ac.ma/Portail2023/club-les-sophis...</td>\n",
       "    </tr>\n",
       "    <tr>\n",
       "      <th>4</th>\n",
       "      <td>5</td>\n",
       "      <td>Design &amp; Photography</td>\n",
       "      <td>Le « Club Design &amp; Photography », est une fili...</td>\n",
       "      <td>https://fstt.ac.ma/Portail2023/club-design-pho...</td>\n",
       "    </tr>\n",
       "  </tbody>\n",
       "</table>\n",
       "</div>"
      ],
      "text/plain": [
       "   No             club_name  \\\n",
       "0   1            GREENOLOGY   \n",
       "1   2                 CADAC   \n",
       "2   3      CLUB GÉNIE CIVIL   \n",
       "3   4    CLUB LES SOPHISTES   \n",
       "4   5  Design & Photography   \n",
       "\n",
       "                                    departement_info  \\\n",
       "0  Le Club de l’environnement de la FST de Tanger...   \n",
       "1                https://www.facebook.com/CADAC.FSTT   \n",
       "2  Le Club Génie civil est un club scientifique d...   \n",
       "3             https://www.facebook.com/SophistesFSTT   \n",
       "4  Le « Club Design & Photography », est une fili...   \n",
       "\n",
       "                                           club_link  \n",
       "0         https://fstt.ac.ma/Portail2023/greenology/  \n",
       "1  https://fstt.ac.ma/Portail2023/club-d-art-dram...  \n",
       "2   https://fstt.ac.ma/Portail2023/club-genie-civil/  \n",
       "3  https://fstt.ac.ma/Portail2023/club-les-sophis...  \n",
       "4  https://fstt.ac.ma/Portail2023/club-design-pho...  "
      ]
     },
     "execution_count": 4,
     "metadata": {},
     "output_type": "execute_result"
    }
   ],
   "source": [
    "clubs.head()"
   ]
  },
  {
   "cell_type": "code",
   "execution_count": 5,
   "id": "11e12693-c977-41d4-aeec-073389ac7cc5",
   "metadata": {},
   "outputs": [],
   "source": [
    "def is_french(text):\n",
    "    try:\n",
    "        return detect(text) == 'fr'\n",
    "    except:\n",
    "        return False\n",
    "def preprocessing(text):\n",
    "    # Convert to string and lowercase\n",
    "    text = str(text).lower()\n",
    "    \n",
    "    # Remove URLs\n",
    "    text = re.sub(r'http\\S+|www\\S+|https\\S+', '', text, flags=re.MULTILINE)\n",
    "    \n",
    "    # Remove mentions\n",
    "    text = re.sub(r'@\\w+', '', text)\n",
    "    \n",
    "    # Remove specific unwanted characters\n",
    "    text = re.sub(r'«|»|“|”|’|‘', '', text)\n",
    "    \n",
    "        # Tokenization\n",
    "    \"\"\"tokens = sent_tokenize(text, language=\"french\")\n",
    "    print(\"Tokenization :\" ,tokens)\"\"\"\n",
    "    # Check if text is in French\n",
    "    if not is_french(text):\n",
    "        return ''\n",
    "    # Remove punctuation\n",
    "    text = text.translate(str.maketrans(\" \", \" \", string.punctuation))\n",
    "    \n",
    "    # Tokenization using RegexpTokenizer\n",
    "    pattern = r\"[dnl]['´`]|\\w+|\\$[\\d\\.]+|\\S+\"\n",
    "    tokenizer = RegexpTokenizer(pattern)\n",
    "    tokens = tokenizer.tokenize(text)\n",
    "    tokens = [word for word in tokens if word not in french_stopwords]\n",
    "    \n",
    "    \n",
    "    # Stemming\n",
    "    stemmer =nltk.stem.snowball.FrenchStemmer()\n",
    "    tokens_stemmed = [stemmer.stem(word) for word in tokens]\n",
    "    \n",
    "    # Join tokens back into a single string\n",
    "    return ' '.join(tokens_stemmed)"
   ]
  },
  {
   "cell_type": "code",
   "execution_count": 6,
   "id": "0c3fe2bd-c9e1-4b00-9d61-fb32e99c9fde",
   "metadata": {},
   "outputs": [],
   "source": [
    "article.drop(columns=[\"No\"], inplace=True)\n",
    "clubs.drop(columns=[\"No\"], inplace=True)\n",
    "formation.drop(columns=[\"No\"], inplace=True)\n",
    "dep.drop(columns=[\"No\"], inplace=True)"
   ]
  },
  {
   "cell_type": "code",
   "execution_count": 7,
   "id": "4627271d-c0ab-4ef3-a97f-8cdb3f7c8778",
   "metadata": {},
   "outputs": [],
   "source": [
    "article[\"post_title\"] = article[\"post_title\"].apply(preprocessing)\n",
    "article[\"post_content\"] = article[\"post_content\"].apply(preprocessing)\n",
    "clubs[\"departement_info\"] = clubs[\"departement_info\"].apply(preprocessing)\n",
    "formation[\"mst_name\"] = formation[\"mst_name\"].apply(preprocessing)\n",
    "formation[\"mst_objectif\"] = formation[\"mst_objectif\"].apply(preprocessing)\n",
    "formation[\"mst_program\"] = formation[\"mst_program\"].apply(preprocessing)\n",
    "formation[\"mst_skills\"] = formation[\"mst_skills\"].apply(preprocessing)\n",
    "formation[\"mst_Coord\"] = formation[\"mst_Coord\"].apply(preprocessing)"
   ]
  },
  {
   "cell_type": "code",
   "execution_count": 9,
   "id": "013eec8f-ce41-41ab-af77-e403056a6531",
   "metadata": {},
   "outputs": [],
   "source": [
    "client = chromadb.HttpClient(host='localhost', port=8000)"
   ]
  },
  {
   "cell_type": "code",
   "execution_count": 10,
   "id": "10525d30-2597-4470-ad3d-81ade02ec027",
   "metadata": {},
   "outputs": [
    {
     "ename": "Exception",
     "evalue": "{\"error\":\"UniqueConstraintError('Collection articles already exists')\"}",
     "output_type": "error",
     "traceback": [
      "\u001b[0;31m---------------------------------------------------------------------------\u001b[0m",
      "\u001b[0;31mHTTPError\u001b[0m                                 Traceback (most recent call last)",
      "File \u001b[0;32m~/.conda/envs/myenv/lib/python3.11/site-packages/chromadb/api/fastapi.py:637\u001b[0m, in \u001b[0;36mraise_chroma_error\u001b[0;34m(resp)\u001b[0m\n\u001b[1;32m    636\u001b[0m \u001b[38;5;28;01mtry\u001b[39;00m:\n\u001b[0;32m--> 637\u001b[0m     resp\u001b[38;5;241m.\u001b[39mraise_for_status()\n\u001b[1;32m    638\u001b[0m \u001b[38;5;28;01mexcept\u001b[39;00m requests\u001b[38;5;241m.\u001b[39mHTTPError:\n",
      "File \u001b[0;32m~/.conda/envs/myenv/lib/python3.11/site-packages/requests/models.py:1021\u001b[0m, in \u001b[0;36mResponse.raise_for_status\u001b[0;34m(self)\u001b[0m\n\u001b[1;32m   1020\u001b[0m \u001b[38;5;28;01mif\u001b[39;00m http_error_msg:\n\u001b[0;32m-> 1021\u001b[0m     \u001b[38;5;28;01mraise\u001b[39;00m HTTPError(http_error_msg, response\u001b[38;5;241m=\u001b[39m\u001b[38;5;28mself\u001b[39m)\n",
      "\u001b[0;31mHTTPError\u001b[0m: 500 Server Error: Internal Server Error for url: http://localhost:8000/api/v1/collections?tenant=default_tenant&database=default_database",
      "\nDuring handling of the above exception, another exception occurred:\n",
      "\u001b[0;31mException\u001b[0m                                 Traceback (most recent call last)",
      "Cell \u001b[0;32mIn[10], line 1\u001b[0m\n\u001b[0;32m----> 1\u001b[0m client\u001b[38;5;241m.\u001b[39mcreate_collection(name\u001b[38;5;241m=\u001b[39m\u001b[38;5;124m\"\u001b[39m\u001b[38;5;124marticles\u001b[39m\u001b[38;5;124m\"\u001b[39m)\n\u001b[1;32m      2\u001b[0m client\u001b[38;5;241m.\u001b[39mcreate_collection(name\u001b[38;5;241m=\u001b[39m\u001b[38;5;124m\"\u001b[39m\u001b[38;5;124mclubs\u001b[39m\u001b[38;5;124m\"\u001b[39m)\n\u001b[1;32m      3\u001b[0m client\u001b[38;5;241m.\u001b[39mcreate_collection(name\u001b[38;5;241m=\u001b[39m\u001b[38;5;124m\"\u001b[39m\u001b[38;5;124mformation\u001b[39m\u001b[38;5;124m\"\u001b[39m)\n",
      "File \u001b[0;32m~/.conda/envs/myenv/lib/python3.11/site-packages/chromadb/api/client.py:198\u001b[0m, in \u001b[0;36mClient.create_collection\u001b[0;34m(self, name, metadata, embedding_function, data_loader, get_or_create)\u001b[0m\n\u001b[1;32m    187\u001b[0m \u001b[38;5;129m@override\u001b[39m\n\u001b[1;32m    188\u001b[0m \u001b[38;5;28;01mdef\u001b[39;00m \u001b[38;5;21mcreate_collection\u001b[39m(\n\u001b[1;32m    189\u001b[0m     \u001b[38;5;28mself\u001b[39m,\n\u001b[0;32m   (...)\u001b[0m\n\u001b[1;32m    196\u001b[0m     get_or_create: \u001b[38;5;28mbool\u001b[39m \u001b[38;5;241m=\u001b[39m \u001b[38;5;28;01mFalse\u001b[39;00m,\n\u001b[1;32m    197\u001b[0m ) \u001b[38;5;241m-\u001b[39m\u001b[38;5;241m>\u001b[39m Collection:\n\u001b[0;32m--> 198\u001b[0m     \u001b[38;5;28;01mreturn\u001b[39;00m \u001b[38;5;28mself\u001b[39m\u001b[38;5;241m.\u001b[39m_server\u001b[38;5;241m.\u001b[39mcreate_collection(\n\u001b[1;32m    199\u001b[0m         name\u001b[38;5;241m=\u001b[39mname,\n\u001b[1;32m    200\u001b[0m         metadata\u001b[38;5;241m=\u001b[39mmetadata,\n\u001b[1;32m    201\u001b[0m         embedding_function\u001b[38;5;241m=\u001b[39membedding_function,\n\u001b[1;32m    202\u001b[0m         data_loader\u001b[38;5;241m=\u001b[39mdata_loader,\n\u001b[1;32m    203\u001b[0m         tenant\u001b[38;5;241m=\u001b[39m\u001b[38;5;28mself\u001b[39m\u001b[38;5;241m.\u001b[39mtenant,\n\u001b[1;32m    204\u001b[0m         database\u001b[38;5;241m=\u001b[39m\u001b[38;5;28mself\u001b[39m\u001b[38;5;241m.\u001b[39mdatabase,\n\u001b[1;32m    205\u001b[0m         get_or_create\u001b[38;5;241m=\u001b[39mget_or_create,\n\u001b[1;32m    206\u001b[0m     )\n",
      "File \u001b[0;32m~/.conda/envs/myenv/lib/python3.11/site-packages/chromadb/telemetry/opentelemetry/__init__.py:143\u001b[0m, in \u001b[0;36mtrace_method.<locals>.decorator.<locals>.wrapper\u001b[0;34m(*args, **kwargs)\u001b[0m\n\u001b[1;32m    141\u001b[0m \u001b[38;5;28;01mglobal\u001b[39;00m tracer, granularity\n\u001b[1;32m    142\u001b[0m \u001b[38;5;28;01mif\u001b[39;00m trace_granularity \u001b[38;5;241m<\u001b[39m granularity:\n\u001b[0;32m--> 143\u001b[0m     \u001b[38;5;28;01mreturn\u001b[39;00m f(\u001b[38;5;241m*\u001b[39margs, \u001b[38;5;241m*\u001b[39m\u001b[38;5;241m*\u001b[39mkwargs)\n\u001b[1;32m    144\u001b[0m \u001b[38;5;28;01mif\u001b[39;00m \u001b[38;5;129;01mnot\u001b[39;00m tracer:\n\u001b[1;32m    145\u001b[0m     \u001b[38;5;28;01mreturn\u001b[39;00m f(\u001b[38;5;241m*\u001b[39margs, \u001b[38;5;241m*\u001b[39m\u001b[38;5;241m*\u001b[39mkwargs)\n",
      "File \u001b[0;32m~/.conda/envs/myenv/lib/python3.11/site-packages/chromadb/api/fastapi.py:255\u001b[0m, in \u001b[0;36mFastAPI.create_collection\u001b[0;34m(self, name, metadata, embedding_function, data_loader, get_or_create, tenant, database)\u001b[0m\n\u001b[1;32m    243\u001b[0m \u001b[38;5;250m\u001b[39m\u001b[38;5;124;03m\"\"\"Creates a collection\"\"\"\u001b[39;00m\n\u001b[1;32m    244\u001b[0m resp \u001b[38;5;241m=\u001b[39m \u001b[38;5;28mself\u001b[39m\u001b[38;5;241m.\u001b[39m_session\u001b[38;5;241m.\u001b[39mpost(\n\u001b[1;32m    245\u001b[0m     \u001b[38;5;28mself\u001b[39m\u001b[38;5;241m.\u001b[39m_api_url \u001b[38;5;241m+\u001b[39m \u001b[38;5;124m\"\u001b[39m\u001b[38;5;124m/collections\u001b[39m\u001b[38;5;124m\"\u001b[39m,\n\u001b[1;32m    246\u001b[0m     data\u001b[38;5;241m=\u001b[39mjson\u001b[38;5;241m.\u001b[39mdumps(\n\u001b[0;32m   (...)\u001b[0m\n\u001b[1;32m    253\u001b[0m     params\u001b[38;5;241m=\u001b[39m{\u001b[38;5;124m\"\u001b[39m\u001b[38;5;124mtenant\u001b[39m\u001b[38;5;124m\"\u001b[39m: tenant, \u001b[38;5;124m\"\u001b[39m\u001b[38;5;124mdatabase\u001b[39m\u001b[38;5;124m\"\u001b[39m: database},\n\u001b[1;32m    254\u001b[0m )\n\u001b[0;32m--> 255\u001b[0m raise_chroma_error(resp)\n\u001b[1;32m    256\u001b[0m resp_json \u001b[38;5;241m=\u001b[39m json\u001b[38;5;241m.\u001b[39mloads(resp\u001b[38;5;241m.\u001b[39mtext)\n\u001b[1;32m    257\u001b[0m \u001b[38;5;28;01mreturn\u001b[39;00m Collection(\n\u001b[1;32m    258\u001b[0m     client\u001b[38;5;241m=\u001b[39m\u001b[38;5;28mself\u001b[39m,\n\u001b[1;32m    259\u001b[0m     \u001b[38;5;28mid\u001b[39m\u001b[38;5;241m=\u001b[39mresp_json[\u001b[38;5;124m\"\u001b[39m\u001b[38;5;124mid\u001b[39m\u001b[38;5;124m\"\u001b[39m],\n\u001b[0;32m   (...)\u001b[0m\n\u001b[1;32m    263\u001b[0m     metadata\u001b[38;5;241m=\u001b[39mresp_json[\u001b[38;5;124m\"\u001b[39m\u001b[38;5;124mmetadata\u001b[39m\u001b[38;5;124m\"\u001b[39m],\n\u001b[1;32m    264\u001b[0m )\n",
      "File \u001b[0;32m~/.conda/envs/myenv/lib/python3.11/site-packages/chromadb/api/fastapi.py:639\u001b[0m, in \u001b[0;36mraise_chroma_error\u001b[0;34m(resp)\u001b[0m\n\u001b[1;32m    637\u001b[0m     resp\u001b[38;5;241m.\u001b[39mraise_for_status()\n\u001b[1;32m    638\u001b[0m \u001b[38;5;28;01mexcept\u001b[39;00m requests\u001b[38;5;241m.\u001b[39mHTTPError:\n\u001b[0;32m--> 639\u001b[0m     \u001b[38;5;28;01mraise\u001b[39;00m (\u001b[38;5;167;01mException\u001b[39;00m(resp\u001b[38;5;241m.\u001b[39mtext))\n",
      "\u001b[0;31mException\u001b[0m: {\"error\":\"UniqueConstraintError('Collection articles already exists')\"}"
     ]
    }
   ],
   "source": [
    "client.create_collection(name=\"articles\")\n",
    "client.create_collection(name=\"clubs\")\n",
    "client.create_collection(name=\"formation\")\n",
    "client.create_collection(name=\"departement\")"
   ]
  },
  {
   "cell_type": "code",
   "execution_count": 11,
   "id": "8061a090-b503-47f6-88cb-aa930aa23ab0",
   "metadata": {},
   "outputs": [],
   "source": [
    "articles_collection = client.get_collection(name=\"articles\")\n",
    "clubs_collection = client.get_collection(name=\"clubs\")\n",
    "formation_collection = client.get_collection(name=\"formation\")\n",
    "departement_collection = client.get_collection(name=\"departement\")"
   ]
  },
  {
   "cell_type": "code",
   "execution_count": 18,
   "id": "5874ac19-783d-478d-825f-fcf0ad54feef",
   "metadata": {},
   "outputs": [
    {
     "name": "stdout",
     "output_type": "stream",
     "text": [
      "Embeddings, metadata, and documents stored in ChromaDB successfully.\n"
     ]
    }
   ],
   "source": [
    "import uuid\n",
    "\n",
    "def process_and_store_embeddings(dataframe, column_names, collection):\n",
    "    ids = []\n",
    "    metadatas = []\n",
    "    documents = []\n",
    "\n",
    "    for idx, row in dataframe.iterrows():\n",
    "        doc_metadata = { 'row_index': idx }\n",
    "        for key, value in row.items():\n",
    "            if key not in column_names:\n",
    "                doc_metadata[key] = value  # Leave non-string fields as is\n",
    "        for column in column_names:\n",
    "            sentence = row[column]\n",
    "            if sentence is not None and sentence != '':\n",
    "                ids.append(str(uuid.uuid1()))\n",
    "                metadata_with_column = doc_metadata.copy()\n",
    "                metadata_with_column['column_name'] = column  # Add column name to metadata\n",
    "                metadatas.append(metadata_with_column)\n",
    "                documents.append(sentence) \n",
    "\n",
    "    collection.add(\n",
    "        ids=ids,\n",
    "        # embeddings=embeddings,  # Assuming embeddings are being handled elsewhere\n",
    "        metadatas=metadatas,\n",
    "        documents=documents\n",
    "    )\n",
    "\n",
    "# Assuming article, clubs, formation DataFrames are already preprocessed\n",
    "# Store embeddings, metadata, and documents from each DataFrame\n",
    "process_and_store_embeddings(article, [\"post_title\", \"post_content\"], articles_collection)\n",
    "process_and_store_embeddings(clubs, [\"departement_name\",\"departement_info\"], departement_collection)\n",
    "process_and_store_embeddings(formation, [\"mst_name\", \"mst_objectif\", \"mst_program\", \"mst_skills\", \"mst_Coord\"], formation_collection)\n",
    "process_and_store_embeddings(dep, [\"departement_info\",\"departement_name\"], departement_collection)\n",
    "print(\"Embeddings, metadata, and documents stored in ChromaDB successfully.\")\n",
    "\n"
   ]
  },
  {
   "cell_type": "code",
   "execution_count": 18,
   "id": "3317f630",
   "metadata": {},
   "outputs": [
    {
     "data": {
      "text/html": [
       "<div>\n",
       "<style scoped>\n",
       "    .dataframe tbody tr th:only-of-type {\n",
       "        vertical-align: middle;\n",
       "    }\n",
       "\n",
       "    .dataframe tbody tr th {\n",
       "        vertical-align: top;\n",
       "    }\n",
       "\n",
       "    .dataframe thead th {\n",
       "        text-align: right;\n",
       "    }\n",
       "</style>\n",
       "<table border=\"1\" class=\"dataframe\">\n",
       "  <thead>\n",
       "    <tr style=\"text-align: right;\">\n",
       "      <th></th>\n",
       "      <th>No</th>\n",
       "      <th>departement_name</th>\n",
       "      <th>departement_info</th>\n",
       "    </tr>\n",
       "  </thead>\n",
       "  <tbody>\n",
       "    <tr>\n",
       "      <th>0</th>\n",
       "      <td>1</td>\n",
       "      <td>GÉNIE INFORMATIQUE</td>\n",
       "      <td>Chef : Pr.EL BRAK Mohamed    \\nEmail :   melbr...</td>\n",
       "    </tr>\n",
       "    <tr>\n",
       "      <th>1</th>\n",
       "      <td>2</td>\n",
       "      <td>GÉNIE CHIMIQUE</td>\n",
       "      <td>Chef : Pr.CHABBI Mohamed\\nEmail : mchabbi@uae....</td>\n",
       "    </tr>\n",
       "    <tr>\n",
       "      <th>2</th>\n",
       "      <td>3</td>\n",
       "      <td>SCIENCES DE LA TERRE</td>\n",
       "      <td>Chef : Pr.BOULAASSAL Hakim\\nEmail : h.boulaass...</td>\n",
       "    </tr>\n",
       "    <tr>\n",
       "      <th>3</th>\n",
       "      <td>4</td>\n",
       "      <td>GÉNIE MÉCANIQUE</td>\n",
       "      <td>Chef : Pr.ELAYACHI Ilham\\n         \\nEmail :  ...</td>\n",
       "    </tr>\n",
       "    <tr>\n",
       "      <th>4</th>\n",
       "      <td>5</td>\n",
       "      <td>SCIENCES DE LA VIE</td>\n",
       "      <td>Chef : Pr.HASSANI ZERROUK Mounir\\nEmail : mhas...</td>\n",
       "    </tr>\n",
       "  </tbody>\n",
       "</table>\n",
       "</div>"
      ],
      "text/plain": [
       "   No      departement_name                                   departement_info\n",
       "0   1    GÉNIE INFORMATIQUE  Chef : Pr.EL BRAK Mohamed    \\nEmail :   melbr...\n",
       "1   2        GÉNIE CHIMIQUE  Chef : Pr.CHABBI Mohamed\\nEmail : mchabbi@uae....\n",
       "2   3  SCIENCES DE LA TERRE  Chef : Pr.BOULAASSAL Hakim\\nEmail : h.boulaass...\n",
       "3   4       GÉNIE MÉCANIQUE  Chef : Pr.ELAYACHI Ilham\\n         \\nEmail :  ...\n",
       "4   5    SCIENCES DE LA VIE  Chef : Pr.HASSANI ZERROUK Mounir\\nEmail : mhas..."
      ]
     },
     "execution_count": 18,
     "metadata": {},
     "output_type": "execute_result"
    }
   ],
   "source": [
    "dep.head()"
   ]
  },
  {
   "cell_type": "code",
   "execution_count": 19,
   "id": "d1b414f8-4abe-4f33-b567-d0b8ee06b77a",
   "metadata": {
    "scrolled": true
   },
   "outputs": [
    {
     "data": {
      "text/plain": [
       "{'ids': [['5f22f31e-2001-11ef-b8be-803049a3c985',\n",
       "   '55d355f6-2001-11ef-b8be-803049a3c985',\n",
       "   '5f22e270-2001-11ef-b8be-803049a3c985']],\n",
       " 'distances': [[1.081623868357096, 1.2692459013549697, 1.320685818058943]],\n",
       " 'embeddings': None,\n",
       " 'metadatas': [[{'column_name': 'departement_name', 'row_index': 8},\n",
       "   {'club_link': 'https://fstt.ac.ma/Portail2023/club-enactus/',\n",
       "    'column_name': 'club_name',\n",
       "    'row_index': 8},\n",
       "   {'column_name': 'departement_name', 'row_index': 4}]],\n",
       " 'documents': [['MATHÉMATIQUES', 'Club Enactus', 'SCIENCES DE LA VIE']],\n",
       " 'uris': None,\n",
       " 'data': None}"
      ]
     },
     "execution_count": 19,
     "metadata": {},
     "output_type": "execute_result"
    }
   ],
   "source": [
    "departement_collection.query(query_texts=[\"infromatique\"], n_results=3)"
   ]
  },
  {
   "cell_type": "code",
   "execution_count": 1,
   "id": "2179e168-2a94-444c-83b0-20564c768ec8",
   "metadata": {},
   "outputs": [
    {
     "ename": "NameError",
     "evalue": "name 'client' is not defined",
     "output_type": "error",
     "traceback": [
      "\u001b[0;31m---------------------------------------------------------------------------\u001b[0m",
      "\u001b[0;31mNameError\u001b[0m                                 Traceback (most recent call last)",
      "Cell \u001b[0;32mIn[1], line 1\u001b[0m\n\u001b[0;32m----> 1\u001b[0m client\u001b[38;5;241m.\u001b[39mdelete_collection(name\u001b[38;5;241m=\u001b[39m\u001b[38;5;124m\"\u001b[39m\u001b[38;5;124mtext_embeddings\u001b[39m\u001b[38;5;124m\"\u001b[39m)\n",
      "\u001b[0;31mNameError\u001b[0m: name 'client' is not defined"
     ]
    }
   ],
   "source": [
    "client.delete_collection(name=\"text_embeddings\")"
   ]
  },
  {
   "cell_type": "code",
   "execution_count": null,
   "id": "371ff4f3",
   "metadata": {},
   "outputs": [],
   "source": []
  }
 ],
 "metadata": {
  "kernelspec": {
   "display_name": "Python 3 (ipykernel)",
   "language": "python",
   "name": "python3"
  },
  "language_info": {
   "codemirror_mode": {
    "name": "ipython",
    "version": 3
   },
   "file_extension": ".py",
   "mimetype": "text/x-python",
   "name": "python",
   "nbconvert_exporter": "python",
   "pygments_lexer": "ipython3",
   "version": "3.11.5"
  }
 },
 "nbformat": 4,
 "nbformat_minor": 5
}
