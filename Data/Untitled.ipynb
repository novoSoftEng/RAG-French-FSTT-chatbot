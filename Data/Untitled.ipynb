{
 "cells": [
  {
   "cell_type": "markdown",
   "id": "24faae97-b288-4545-bc9c-ec4a282de79b",
   "metadata": {},
   "source": [
    "## Cleaning"
   ]
  },
  {
   "cell_type": "code",
   "execution_count": 1,
   "id": "f02d0417-3ba2-484b-9599-06655a67b44e",
   "metadata": {},
   "outputs": [],
   "source": [
    "import pandas as pd\n",
    "import spacy\n",
    "from spacy.lang.fr.stop_words import STOP_WORDS\n",
    "import spacy\n",
    "nlp = spacy.load(\"fr_core_news_sm\")\n",
    "import fr_core_news_sm"
   ]
  },
  {
   "cell_type": "markdown",
   "id": "b720305b-be08-4384-8597-42678cbcdade",
   "metadata": {},
   "source": [
    "### load data "
   ]
  },
  {
   "cell_type": "code",
   "execution_count": 2,
   "id": "624dbce8-5356-4add-83e0-2fb2a4a85a3d",
   "metadata": {},
   "outputs": [],
   "source": [
    "article = pd.read_csv(\"fstt-articles.csv\")\n",
    "clubs = pd.read_csv(\"fstt-clubs-info.csv\")\n",
    "dep = pd.read_csv(\"fstt-departements-info.csv\")\n",
    "formation = pd.read_csv(\"fstt-formation-initial.csv\")"
   ]
  },
  {
   "cell_type": "code",
   "execution_count": 3,
   "id": "95dd9c63-7107-4bb6-8eb9-559ebd02f5c1",
   "metadata": {},
   "outputs": [
    {
     "data": {
      "text/html": [
       "<div>\n",
       "<style scoped>\n",
       "    .dataframe tbody tr th:only-of-type {\n",
       "        vertical-align: middle;\n",
       "    }\n",
       "\n",
       "    .dataframe tbody tr th {\n",
       "        vertical-align: top;\n",
       "    }\n",
       "\n",
       "    .dataframe thead th {\n",
       "        text-align: right;\n",
       "    }\n",
       "</style>\n",
       "<table border=\"1\" class=\"dataframe\">\n",
       "  <thead>\n",
       "    <tr style=\"text-align: right;\">\n",
       "      <th></th>\n",
       "      <th>No</th>\n",
       "      <th>post_title</th>\n",
       "      <th>publish_date</th>\n",
       "      <th>post_content</th>\n",
       "      <th>post_link</th>\n",
       "    </tr>\n",
       "  </thead>\n",
       "  <tbody>\n",
       "    <tr>\n",
       "      <th>0</th>\n",
       "      <td>1</td>\n",
       "      <td>CYBERSEC360° : PERSPECTIVES EN CYBERSÉCURITÉ A...</td>\n",
       "      <td>mars 26, 2024</td>\n",
       "      <td>Un séminaire sera organisé le le samedi 30 Mar...</td>\n",
       "      <td>https://fstt.ac.ma/Portail2023/cybersec360-per...</td>\n",
       "    </tr>\n",
       "    <tr>\n",
       "      <th>1</th>\n",
       "      <td>2</td>\n",
       "      <td>PRÉSENTATION CONCOURS D’INNOVATION TDC</td>\n",
       "      <td>mars 26, 2024</td>\n",
       "      <td>À la suite de l’appel à candidature au concour...</td>\n",
       "      <td>https://fstt.ac.ma/Portail2023/presentation-co...</td>\n",
       "    </tr>\n",
       "    <tr>\n",
       "      <th>2</th>\n",
       "      <td>3</td>\n",
       "      <td>SÉMINAIRE : WATER RESOURCES MANAGEMENT FOR SUS...</td>\n",
       "      <td>mars 26, 2024</td>\n",
       "      <td>À l’occasion de la Journée mondiale de l’eau, ...</td>\n",
       "      <td>https://fstt.ac.ma/Portail2023/seminaire-water...</td>\n",
       "    </tr>\n",
       "    <tr>\n",
       "      <th>3</th>\n",
       "      <td>4</td>\n",
       "      <td>ORACLE MOROCCO R&amp;D CENTER : PROGRAMME DE STAGE...</td>\n",
       "      <td>mars 23, 2024</td>\n",
       "      <td>Oracle Morocco R&amp;D Center lance l’appel aux ca...</td>\n",
       "      <td>https://fstt.ac.ma/Portail2023/oracle-morocco-...</td>\n",
       "    </tr>\n",
       "    <tr>\n",
       "      <th>4</th>\n",
       "      <td>5</td>\n",
       "      <td>APPEL À PROJET : «TERRITORY DEVELOPMENT CHALLE...</td>\n",
       "      <td>mars 22, 2024</td>\n",
       "      <td>Le Centre régional d’investissement (CRI-TTA) ...</td>\n",
       "      <td>https://fstt.ac.ma/Portail2023/appel-a-projet-...</td>\n",
       "    </tr>\n",
       "  </tbody>\n",
       "</table>\n",
       "</div>"
      ],
      "text/plain": [
       "   No                                         post_title   publish_date  \\\n",
       "0   1  CYBERSEC360° : PERSPECTIVES EN CYBERSÉCURITÉ A...  mars 26, 2024   \n",
       "1   2             PRÉSENTATION CONCOURS D’INNOVATION TDC  mars 26, 2024   \n",
       "2   3  SÉMINAIRE : WATER RESOURCES MANAGEMENT FOR SUS...  mars 26, 2024   \n",
       "3   4  ORACLE MOROCCO R&D CENTER : PROGRAMME DE STAGE...  mars 23, 2024   \n",
       "4   5  APPEL À PROJET : «TERRITORY DEVELOPMENT CHALLE...  mars 22, 2024   \n",
       "\n",
       "                                        post_content  \\\n",
       "0  Un séminaire sera organisé le le samedi 30 Mar...   \n",
       "1  À la suite de l’appel à candidature au concour...   \n",
       "2  À l’occasion de la Journée mondiale de l’eau, ...   \n",
       "3  Oracle Morocco R&D Center lance l’appel aux ca...   \n",
       "4  Le Centre régional d’investissement (CRI-TTA) ...   \n",
       "\n",
       "                                           post_link  \n",
       "0  https://fstt.ac.ma/Portail2023/cybersec360-per...  \n",
       "1  https://fstt.ac.ma/Portail2023/presentation-co...  \n",
       "2  https://fstt.ac.ma/Portail2023/seminaire-water...  \n",
       "3  https://fstt.ac.ma/Portail2023/oracle-morocco-...  \n",
       "4  https://fstt.ac.ma/Portail2023/appel-a-projet-...  "
      ]
     },
     "execution_count": 3,
     "metadata": {},
     "output_type": "execute_result"
    }
   ],
   "source": [
    "article.head()\n"
   ]
  },
  {
   "cell_type": "code",
   "execution_count": 4,
   "id": "a030f144-de80-4af6-b56d-ba5411b1d232",
   "metadata": {},
   "outputs": [
    {
     "data": {
      "text/html": [
       "<div>\n",
       "<style scoped>\n",
       "    .dataframe tbody tr th:only-of-type {\n",
       "        vertical-align: middle;\n",
       "    }\n",
       "\n",
       "    .dataframe tbody tr th {\n",
       "        vertical-align: top;\n",
       "    }\n",
       "\n",
       "    .dataframe thead th {\n",
       "        text-align: right;\n",
       "    }\n",
       "</style>\n",
       "<table border=\"1\" class=\"dataframe\">\n",
       "  <thead>\n",
       "    <tr style=\"text-align: right;\">\n",
       "      <th></th>\n",
       "      <th>No</th>\n",
       "      <th>club_name</th>\n",
       "      <th>departement_info</th>\n",
       "      <th>club_link</th>\n",
       "    </tr>\n",
       "  </thead>\n",
       "  <tbody>\n",
       "    <tr>\n",
       "      <th>0</th>\n",
       "      <td>1</td>\n",
       "      <td>GREENOLOGY</td>\n",
       "      <td>Le Club de l’environnement de la FST de Tanger...</td>\n",
       "      <td>https://fstt.ac.ma/Portail2023/greenology/</td>\n",
       "    </tr>\n",
       "    <tr>\n",
       "      <th>1</th>\n",
       "      <td>2</td>\n",
       "      <td>CADAC</td>\n",
       "      <td>https://www.facebook.com/CADAC.FSTT</td>\n",
       "      <td>https://fstt.ac.ma/Portail2023/club-d-art-dram...</td>\n",
       "    </tr>\n",
       "    <tr>\n",
       "      <th>2</th>\n",
       "      <td>3</td>\n",
       "      <td>CLUB GÉNIE CIVIL</td>\n",
       "      <td>Le Club Génie civil est un club scientifique d...</td>\n",
       "      <td>https://fstt.ac.ma/Portail2023/club-genie-civil/</td>\n",
       "    </tr>\n",
       "    <tr>\n",
       "      <th>3</th>\n",
       "      <td>4</td>\n",
       "      <td>CLUB LES SOPHISTES</td>\n",
       "      <td>https://www.facebook.com/SophistesFSTT</td>\n",
       "      <td>https://fstt.ac.ma/Portail2023/club-les-sophis...</td>\n",
       "    </tr>\n",
       "    <tr>\n",
       "      <th>4</th>\n",
       "      <td>5</td>\n",
       "      <td>Design &amp; Photography</td>\n",
       "      <td>Le « Club Design &amp; Photography », est une fili...</td>\n",
       "      <td>https://fstt.ac.ma/Portail2023/club-design-pho...</td>\n",
       "    </tr>\n",
       "  </tbody>\n",
       "</table>\n",
       "</div>"
      ],
      "text/plain": [
       "   No             club_name  \\\n",
       "0   1            GREENOLOGY   \n",
       "1   2                 CADAC   \n",
       "2   3      CLUB GÉNIE CIVIL   \n",
       "3   4    CLUB LES SOPHISTES   \n",
       "4   5  Design & Photography   \n",
       "\n",
       "                                    departement_info  \\\n",
       "0  Le Club de l’environnement de la FST de Tanger...   \n",
       "1                https://www.facebook.com/CADAC.FSTT   \n",
       "2  Le Club Génie civil est un club scientifique d...   \n",
       "3             https://www.facebook.com/SophistesFSTT   \n",
       "4  Le « Club Design & Photography », est une fili...   \n",
       "\n",
       "                                           club_link  \n",
       "0         https://fstt.ac.ma/Portail2023/greenology/  \n",
       "1  https://fstt.ac.ma/Portail2023/club-d-art-dram...  \n",
       "2   https://fstt.ac.ma/Portail2023/club-genie-civil/  \n",
       "3  https://fstt.ac.ma/Portail2023/club-les-sophis...  \n",
       "4  https://fstt.ac.ma/Portail2023/club-design-pho...  "
      ]
     },
     "execution_count": 4,
     "metadata": {},
     "output_type": "execute_result"
    }
   ],
   "source": [
    "clubs.head()\n"
   ]
  },
  {
   "cell_type": "code",
   "execution_count": 5,
   "id": "72df22f6-6db9-4c19-b4cb-cf9c274650f9",
   "metadata": {},
   "outputs": [
    {
     "data": {
      "text/html": [
       "<div>\n",
       "<style scoped>\n",
       "    .dataframe tbody tr th:only-of-type {\n",
       "        vertical-align: middle;\n",
       "    }\n",
       "\n",
       "    .dataframe tbody tr th {\n",
       "        vertical-align: top;\n",
       "    }\n",
       "\n",
       "    .dataframe thead th {\n",
       "        text-align: right;\n",
       "    }\n",
       "</style>\n",
       "<table border=\"1\" class=\"dataframe\">\n",
       "  <thead>\n",
       "    <tr style=\"text-align: right;\">\n",
       "      <th></th>\n",
       "      <th>No</th>\n",
       "      <th>departement_name</th>\n",
       "      <th>departement_info</th>\n",
       "    </tr>\n",
       "  </thead>\n",
       "  <tbody>\n",
       "    <tr>\n",
       "      <th>0</th>\n",
       "      <td>1</td>\n",
       "      <td>GÉNIE INFORMATIQUE</td>\n",
       "      <td>Chef : Pr.EL BRAK Mohamed    \\nEmail :   melbr...</td>\n",
       "    </tr>\n",
       "    <tr>\n",
       "      <th>1</th>\n",
       "      <td>2</td>\n",
       "      <td>GÉNIE CHIMIQUE</td>\n",
       "      <td>Chef : Pr.CHABBI Mohamed\\nEmail : mchabbi@uae....</td>\n",
       "    </tr>\n",
       "    <tr>\n",
       "      <th>2</th>\n",
       "      <td>3</td>\n",
       "      <td>SCIENCES DE LA TERRE</td>\n",
       "      <td>Chef : Pr.BOULAASSAL Hakim\\nEmail : h.boulaass...</td>\n",
       "    </tr>\n",
       "    <tr>\n",
       "      <th>3</th>\n",
       "      <td>4</td>\n",
       "      <td>GÉNIE MÉCANIQUE</td>\n",
       "      <td>Chef : Pr.ELAYACHI Ilham\\n         \\nEmail :  ...</td>\n",
       "    </tr>\n",
       "    <tr>\n",
       "      <th>4</th>\n",
       "      <td>5</td>\n",
       "      <td>SCIENCES DE LA VIE</td>\n",
       "      <td>Chef : Pr.HASSANI ZERROUK Mounir\\nEmail : mhas...</td>\n",
       "    </tr>\n",
       "  </tbody>\n",
       "</table>\n",
       "</div>"
      ],
      "text/plain": [
       "   No      departement_name                                   departement_info\n",
       "0   1    GÉNIE INFORMATIQUE  Chef : Pr.EL BRAK Mohamed    \\nEmail :   melbr...\n",
       "1   2        GÉNIE CHIMIQUE  Chef : Pr.CHABBI Mohamed\\nEmail : mchabbi@uae....\n",
       "2   3  SCIENCES DE LA TERRE  Chef : Pr.BOULAASSAL Hakim\\nEmail : h.boulaass...\n",
       "3   4       GÉNIE MÉCANIQUE  Chef : Pr.ELAYACHI Ilham\\n         \\nEmail :  ...\n",
       "4   5    SCIENCES DE LA VIE  Chef : Pr.HASSANI ZERROUK Mounir\\nEmail : mhas..."
      ]
     },
     "execution_count": 5,
     "metadata": {},
     "output_type": "execute_result"
    }
   ],
   "source": [
    "dep.head()\n"
   ]
  },
  {
   "cell_type": "code",
   "execution_count": 6,
   "id": "05eaf6eb-f177-40d6-a412-0fce98f8f8f6",
   "metadata": {},
   "outputs": [
    {
     "data": {
      "text/html": [
       "<div>\n",
       "<style scoped>\n",
       "    .dataframe tbody tr th:only-of-type {\n",
       "        vertical-align: middle;\n",
       "    }\n",
       "\n",
       "    .dataframe tbody tr th {\n",
       "        vertical-align: top;\n",
       "    }\n",
       "\n",
       "    .dataframe thead th {\n",
       "        text-align: right;\n",
       "    }\n",
       "</style>\n",
       "<table border=\"1\" class=\"dataframe\">\n",
       "  <thead>\n",
       "    <tr style=\"text-align: right;\">\n",
       "      <th></th>\n",
       "      <th>No</th>\n",
       "      <th>mst_name</th>\n",
       "      <th>formation_type</th>\n",
       "      <th>mst_link</th>\n",
       "      <th>mst_objectif</th>\n",
       "      <th>mst_program</th>\n",
       "      <th>mst_skills</th>\n",
       "      <th>mst_Coord</th>\n",
       "    </tr>\n",
       "  </thead>\n",
       "  <tbody>\n",
       "    <tr>\n",
       "      <th>0</th>\n",
       "      <td>1</td>\n",
       "      <td>MST : Analyse Appliquée et Ingénierie Statistique</td>\n",
       "      <td>mst</td>\n",
       "      <td>https://fstt.ac.ma/Portail2023/mst-analyse-app...</td>\n",
       "      <td>Le Master Analyse Appliquée et Ingénierie Stat...</td>\n",
       "      <td>{'Semestre 1': ['', ' Statistique mathématique...</td>\n",
       "      <td>Donner une formation mathématique et statistiq...</td>\n",
       "      <td>Coordinnateur pédagogique  : Pr.EL HALIMI Rach...</td>\n",
       "    </tr>\n",
       "    <tr>\n",
       "      <th>1</th>\n",
       "      <td>2</td>\n",
       "      <td>MST : Bases Cellulaires et Moléculaires en Bio...</td>\n",
       "      <td>mst</td>\n",
       "      <td>https://fstt.ac.ma/Portail2023/mst-bases-cellu...</td>\n",
       "      <td>Le master BCMB vise la formation des spécialis...</td>\n",
       "      <td>{'Semestre 1': ['', ' Techniques Expérimentale...</td>\n",
       "      <td>Secteur public : chercheur, responsable, ingén...</td>\n",
       "      <td>Coordinnateur pédagogique : Pr.Mohamed NHIRI  ...</td>\n",
       "    </tr>\n",
       "    <tr>\n",
       "      <th>2</th>\n",
       "      <td>3</td>\n",
       "      <td>MST : Environnement, Aquaculture et Développem...</td>\n",
       "      <td>mst</td>\n",
       "      <td>https://fstt.ac.ma/Portail2023/mst-environneme...</td>\n",
       "      <td>Encore peu développée au Maroc, l’aquaculture ...</td>\n",
       "      <td>{'Semestre 1': ['', ' Écosystèmes aquatiques e...</td>\n",
       "      <td>NaN</td>\n",
       "      <td>Coordinnateur pédagogique : Pr.Hassan Er-RAIOU...</td>\n",
       "    </tr>\n",
       "    <tr>\n",
       "      <th>3</th>\n",
       "      <td>4</td>\n",
       "      <td>MST : Géoressources Energétiques et Réservoirs</td>\n",
       "      <td>mst</td>\n",
       "      <td>https://fstt.ac.ma/Portail2023/mst-georessourc...</td>\n",
       "      <td>L’activité accrue dans la recherche en géoscie...</td>\n",
       "      <td>{'Semestre 1': ['', ' Géodynamique et Analyse ...</td>\n",
       "      <td>NaN</td>\n",
       "      <td>Coordinnateur pédagogique : Pr.Mohamed Najib Z...</td>\n",
       "    </tr>\n",
       "    <tr>\n",
       "      <th>4</th>\n",
       "      <td>5</td>\n",
       "      <td>MST : Génie Civil</td>\n",
       "      <td>mst</td>\n",
       "      <td>https://fstt.ac.ma/Portail2023/mst-genie-civil/</td>\n",
       "      <td>Le programme vise la formation des cadres en G...</td>\n",
       "      <td>{'Semestre 1': ['', ' Mathématiques Pour l’Ing...</td>\n",
       "      <td>NaN</td>\n",
       "      <td>Coordinnateur pédagogique : Pr.Dkiouak Rachid ...</td>\n",
       "    </tr>\n",
       "  </tbody>\n",
       "</table>\n",
       "</div>"
      ],
      "text/plain": [
       "   No                                           mst_name formation_type  \\\n",
       "0   1  MST : Analyse Appliquée et Ingénierie Statistique            mst   \n",
       "1   2  MST : Bases Cellulaires et Moléculaires en Bio...            mst   \n",
       "2   3  MST : Environnement, Aquaculture et Développem...            mst   \n",
       "3   4     MST : Géoressources Energétiques et Réservoirs            mst   \n",
       "4   5                                  MST : Génie Civil            mst   \n",
       "\n",
       "                                            mst_link  \\\n",
       "0  https://fstt.ac.ma/Portail2023/mst-analyse-app...   \n",
       "1  https://fstt.ac.ma/Portail2023/mst-bases-cellu...   \n",
       "2  https://fstt.ac.ma/Portail2023/mst-environneme...   \n",
       "3  https://fstt.ac.ma/Portail2023/mst-georessourc...   \n",
       "4    https://fstt.ac.ma/Portail2023/mst-genie-civil/   \n",
       "\n",
       "                                        mst_objectif  \\\n",
       "0  Le Master Analyse Appliquée et Ingénierie Stat...   \n",
       "1  Le master BCMB vise la formation des spécialis...   \n",
       "2  Encore peu développée au Maroc, l’aquaculture ...   \n",
       "3  L’activité accrue dans la recherche en géoscie...   \n",
       "4  Le programme vise la formation des cadres en G...   \n",
       "\n",
       "                                         mst_program  \\\n",
       "0  {'Semestre 1': ['', ' Statistique mathématique...   \n",
       "1  {'Semestre 1': ['', ' Techniques Expérimentale...   \n",
       "2  {'Semestre 1': ['', ' Écosystèmes aquatiques e...   \n",
       "3  {'Semestre 1': ['', ' Géodynamique et Analyse ...   \n",
       "4  {'Semestre 1': ['', ' Mathématiques Pour l’Ing...   \n",
       "\n",
       "                                          mst_skills  \\\n",
       "0  Donner une formation mathématique et statistiq...   \n",
       "1  Secteur public : chercheur, responsable, ingén...   \n",
       "2                                                NaN   \n",
       "3                                                NaN   \n",
       "4                                                NaN   \n",
       "\n",
       "                                           mst_Coord  \n",
       "0  Coordinnateur pédagogique  : Pr.EL HALIMI Rach...  \n",
       "1  Coordinnateur pédagogique : Pr.Mohamed NHIRI  ...  \n",
       "2  Coordinnateur pédagogique : Pr.Hassan Er-RAIOU...  \n",
       "3  Coordinnateur pédagogique : Pr.Mohamed Najib Z...  \n",
       "4  Coordinnateur pédagogique : Pr.Dkiouak Rachid ...  "
      ]
     },
     "execution_count": 6,
     "metadata": {},
     "output_type": "execute_result"
    }
   ],
   "source": [
    "formation.head()"
   ]
  },
  {
   "cell_type": "markdown",
   "id": "2f760194-4001-445e-957b-4132b521a34a",
   "metadata": {},
   "source": [
    "### Text Preprocessing"
   ]
  },
  {
   "cell_type": "code",
   "execution_count": 7,
   "id": "8c59b0a5-fd2e-49b2-81ee-eebfac5c592c",
   "metadata": {},
   "outputs": [],
   "source": [
    "def train_word2vec_model(documents):\n",
    "    # Extract sentences from documents\n",
    "    sentences = [doc.content.lower().split() for doc in documents]\n",
    "    # Train Word2Vec model\n",
    "    word_embedding_model = Word2Vec(sentences, vector_size=100, window=5, min_count=1, workers=4)\n",
    "    return word_embedding_model"
   ]
  },
  {
   "cell_type": "code",
   "execution_count": 5,
   "id": "333c41c9-d867-42a8-a545-d5007ecaa1ce",
   "metadata": {},
   "outputs": [],
   "source": [
    "import fasttext.util"
   ]
  },
  {
   "cell_type": "code",
   "execution_count": 2,
   "id": "a51b0979-62da-457c-b934-70365d145480",
   "metadata": {},
   "outputs": [
    {
     "data": {
      "text/plain": [
       "'cc.fr.300.bin'"
      ]
     },
     "execution_count": 2,
     "metadata": {},
     "output_type": "execute_result"
    }
   ],
   "source": [
    "fasttext.util.download_model('fr', if_exists='ignore')"
   ]
  },
  {
   "cell_type": "code",
   "execution_count": 6,
   "id": "52be7674-88ec-480d-9fea-aef22a071a51",
   "metadata": {},
   "outputs": [],
   "source": [
    "ft = fasttext.load_model('cc.fr.300.bin')"
   ]
  },
  {
   "cell_type": "code",
   "execution_count": 41,
   "id": "ec9819a4-e467-484b-9f31-2612429b1a6d",
   "metadata": {},
   "outputs": [],
   "source": [
    "chroma_client.delete_collection(name=\"my_collection\")"
   ]
  },
  {
   "cell_type": "code",
   "execution_count": 42,
   "id": "0a47e785-72ee-421b-8b9a-be3854814ccd",
   "metadata": {},
   "outputs": [],
   "source": [
    "collection = chroma_client.create_collection(name=\"my_collection\")"
   ]
  },
  {
   "cell_type": "code",
   "execution_count": 43,
   "id": "430e0122-df0c-4688-990c-c46e366c0fde",
   "metadata": {},
   "outputs": [],
   "source": [
    "import chromadb\n",
    "chroma_client = chromadb.HttpClient(host='localhost', port=8000)"
   ]
  },
  {
   "cell_type": "code",
   "execution_count": 59,
   "id": "9a1a114b-393d-4801-aed9-45bdf60f04f6",
   "metadata": {},
   "outputs": [],
   "source": [
    "import fasttext\n",
    "from langchain.document_loaders import DirectoryLoader\n",
    "from langchain.text_splitter import RecursiveCharacterTextSplitter\n",
    "from langchain.schema import Document\n",
    "from langchain.vectorstores.chroma import Chroma\n",
    "import os\n",
    "import shutil\n",
    "import uuid\n",
    "DATA_PATH = \"./\"\n",
    "\n",
    "def generate_data_store():\n",
    "    documents = load_documents()\n",
    "    chunks = split_text(documents)\n",
    "    save_to_chroma(chunks)\n",
    "\n",
    "def load_documents():\n",
    "    loader = DirectoryLoader(DATA_PATH, glob=\"*.csv\")\n",
    "    documents = loader.load()\n",
    "    return documents\n",
    "\n",
    "import re\n",
    "\n",
    "def preprocess_text(text):\n",
    "    # Replace \\n with space\n",
    "    text = text.replace(\"\\n\", \" \")\n",
    "    # Remove special characters\n",
    "    text = re.sub(r'[^\\w\\s]', '', text)\n",
    "    return text\n",
    "\n",
    "def preprocess_metadata(metadata):\n",
    "    cleaned_metadata = {}\n",
    "    for key, value in metadata.items():\n",
    "        if isinstance(value, str):\n",
    "            cleaned_metadata[key] = preprocess_text(value)\n",
    "        else:\n",
    "            cleaned_metadata[key] = value  # Leave non-string fields as is\n",
    "    return cleaned_metadata\n",
    "\n",
    "def split_text(documents: list[Document]):\n",
    "    cleaned_documents = []\n",
    "    for doc in documents:\n",
    "        cleaned_text = preprocess_text(doc.page_content)\n",
    "        cleaned_metadata = preprocess_metadata(doc.metadata)\n",
    "        cleaned_documents.append(Document(page_content=cleaned_text, metadata=cleaned_metadata))\n",
    "\n",
    "    text_splitter = RecursiveCharacterTextSplitter(\n",
    "        chunk_size=150,\n",
    "        chunk_overlap=100,\n",
    "        length_function=len,\n",
    "        add_start_index=True,\n",
    "    )\n",
    "    chunks = text_splitter.split_documents(cleaned_documents)\n",
    "    print(f\"Split {len(documents)} documents into {len(chunks)} chunks.\")\n",
    "\n",
    "    return chunks\n",
    "\n",
    "def save_to_chroma(chunks: list[Document]):\n",
    "    texts = [doc.page_content for doc in chunks]\n",
    "    metadata = [doc.metadata for doc in chunks]\n",
    "\n",
    "    # Create Chroma vector store from the documents.\n",
    "    collection.add(\n",
    "        metadatas=metadata,\n",
    "        documents=texts,  # Pass the text content instead of Document objects\n",
    "        ids=[str(uuid.uuid4()) for _ in range(len(chunks))]\n",
    "    )\n",
    "    print(f\"Saved {len(chunks)} chunks \")\n"
   ]
  },
  {
   "cell_type": "code",
   "execution_count": 60,
   "id": "836bb9fd-5d48-4d22-b76c-90a22a02b84d",
   "metadata": {},
   "outputs": [
    {
     "name": "stdout",
     "output_type": "stream",
     "text": [
      "Split 4 documents into 1910 chunks.\n",
      "Saved 1910 chunks \n"
     ]
    }
   ],
   "source": [
    "generate_data_store()"
   ]
  },
  {
   "cell_type": "code",
   "execution_count": 69,
   "id": "c3f3f271-c957-4dd0-bad3-fbe53e81f493",
   "metadata": {},
   "outputs": [],
   "source": [
    "results = collection.query(\n",
    "    query_texts=[\"club technologie link\"],\n",
    "    n_results=5\n",
    ")"
   ]
  },
  {
   "cell_type": "code",
   "execution_count": 70,
   "id": "4308e11e-923b-410b-9ae1-48bfc4461c03",
   "metadata": {},
   "outputs": [
    {
     "name": "stdout",
     "output_type": "stream",
     "text": [
      "{'ids': [['ed4674e9-acce-456e-8b69-a9220ffb7a00', '2982c7f0-669b-40a7-9d2b-6a87384b46b5', 'be590930-910e-413d-a867-3f715ebb24d9', '1d167d0a-b629-4739-806a-f23c7bf54bdc', '506eefaf-4550-45f3-9778-6f67211fdd6d']], 'distances': [[0.5822523236274719, 0.5822523236274719, 0.5822523236274719, 0.675771176815033, 0.675771176815033]], 'embeddings': None, 'metadatas': [[{'source': 'fstt-clubs-info.csv', 'start_index': 10898}, {'source': 'fstt-clubs-info.csv', 'start_index': 10898}, {'source': 'fsttclubsinfocsv', 'start_index': 10898}, {'source': 'fstt-clubs-info.csv', 'start_index': 10918}, {'source': 'fstt-clubs-info.csv', 'start_index': 10918}]], 'documents': [['du club\\xa0\\xa0EL IDRISSI YassinenCoordonnes de contact\\xa0nTél\\xa0 212677375827nEmail\\xa0 ClubBiotechnologieGmailcomnFacebook', 'du club\\xa0\\xa0EL IDRISSI YassinenCoordonnes de contact\\xa0nTél\\xa0 212677375827nEmail\\xa0 ClubBiotechnologieGmailcomnFacebook', 'du club\\xa0\\xa0EL IDRISSI YassinenCoordonnes de contact\\xa0nTél\\xa0 212677375827nEmail\\xa0 ClubBiotechnologieGmailcomnFacebook', 'YassinenCoordonnes de contact\\xa0nTél\\xa0 212677375827nEmail\\xa0 ClubBiotechnologieGmailcomnFacebook\\xa0 wwwfacebookcomClubBiotechnologienYouTube', 'YassinenCoordonnes de contact\\xa0nTél\\xa0 212677375827nEmail\\xa0 ClubBiotechnologieGmailcomnFacebook\\xa0 wwwfacebookcomClubBiotechnologienYouTube']], 'uris': None, 'data': None}\n"
     ]
    }
   ],
   "source": [
    "print(results)"
   ]
  },
  {
   "cell_type": "code",
   "execution_count": null,
   "id": "6fdea1e6-4927-4a9a-ad33-46d61a07a18a",
   "metadata": {},
   "outputs": [],
   "source": []
  },
  {
   "cell_type": "code",
   "execution_count": null,
   "id": "4f828976-df79-4ff8-bcf7-69e7e0318551",
   "metadata": {},
   "outputs": [],
   "source": []
  }
 ],
 "metadata": {
  "kernelspec": {
   "display_name": "Python 3 (ipykernel)",
   "language": "python",
   "name": "python3"
  },
  "language_info": {
   "codemirror_mode": {
    "name": "ipython",
    "version": 3
   },
   "file_extension": ".py",
   "mimetype": "text/x-python",
   "name": "python",
   "nbconvert_exporter": "python",
   "pygments_lexer": "ipython3",
   "version": "3.11.9"
  }
 },
 "nbformat": 4,
 "nbformat_minor": 5
}
